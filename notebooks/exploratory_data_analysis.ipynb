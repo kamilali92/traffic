{
 "cells": [
  {
   "cell_type": "code",
   "execution_count": null,
   "metadata": {
    "vscode": {
     "languageId": "plaintext"
    }
   },
   "outputs": [],
   "source": [
    "import pandas as pd\n",
    "import seaborn as sns\n",
    "import matplotlib.pyplot as plt\n",
    "from src.data_preprocessing import load_data\n",
    "\n",
    "# Load the data\n",
    "df = load_data('../data/accidents.csv')\n",
    "\n",
    "# Check for missing values\n",
    "print(df.isnull().sum())\n",
    "\n",
    "# Visualize the distribution of the target variable (Severity)\n",
    "sns.countplot(x='Severity', data=df)\n",
    "plt.title('Distribution of Accident Severity')\n",
    "plt.show()\n",
    "\n",
    "# Visualize relationships with weather conditions\n",
    "plt.figure(figsize=(10, 6))\n",
    "sns.boxplot(x='Weather_Condition', y='Severity', data=df)\n",
    "plt.title('Weather Condition vs Severity')\n",
    "plt.show()\n",
    "\n",
    "# Visualize correlations between numeric features\n",
    "correlation_matrix = df.corr()\n",
    "plt.figure(figsize=(12, 8))\n",
    "sns.heatmap(correlation_matrix, annot=True, cmap='coolwarm', fmt='.2f')\n",
    "plt.title('Correlation Matrix')\n",
    "plt.show()\n"
   ]
  }
 ],
 "metadata": {
  "language_info": {
   "name": "python"
  }
 },
 "nbformat": 4,
 "nbformat_minor": 2
}
